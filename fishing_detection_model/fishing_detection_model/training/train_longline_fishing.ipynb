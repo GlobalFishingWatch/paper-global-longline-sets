{
 "cells": [
  {
   "cell_type": "code",
   "execution_count": 1,
   "id": "68862ef3",
   "metadata": {},
   "outputs": [],
   "source": [
    "# flake8: noqa\n",
    "# isort: skip_file\n",
    "import os\n",
    "import pickle\n",
    "import sys\n",
    "from collections import Counter, defaultdict, namedtuple"
   ]
  },
  {
   "cell_type": "code",
   "execution_count": 2,
   "id": "b719f955",
   "metadata": {},
   "outputs": [],
   "source": [
    "import tensorflow as tf"
   ]
  },
  {
   "cell_type": "code",
   "execution_count": 3,
   "id": "0c5c0dbe",
   "metadata": {},
   "outputs": [],
   "source": [
    "import gcsfs\n",
    "import h5py\n",
    "import matplotlib.pyplot as plts"
   ]
  },
  {
   "cell_type": "code",
   "execution_count": 4,
   "id": "5497f0c6",
   "metadata": {},
   "outputs": [],
   "source": [
    "import numpy as np\n",
    "import pandas as pd\n",
    "from skimage import morphology\n",
    "from sklearn.model_selection import KFold\n",
    "\n",
    "sys.path.append(\"../..\")\n",
    "\n",
    "from fishing_detection_model.model import fishing_model_attn6, generic_fishing_model\n",
    "from fishing_detection_model.training import longline_trainer, longline_training_data\n",
    "from fishing_detection_model.training import training_data as training_data_mod\n",
    "\n",
    "os.environ[\"CUDA_DEVICE_ORDER\"] = \"PCI_BUS_ID\"  # see issue #152\n",
    "os.environ[\"CUDA_VISIBLE_DEVICES\"] = \"\""
   ]
  },
  {
   "cell_type": "code",
   "execution_count": 5,
   "id": "5de71f42",
   "metadata": {},
   "outputs": [],
   "source": [
    "training_data = longline_training_data.load(\"../data/untracked/tim_data_20211026.h5\")"
   ]
  },
  {
   "cell_type": "code",
   "execution_count": 6,
   "id": "7a99eabb",
   "metadata": {},
   "outputs": [],
   "source": [
    "model = fishing_model_attn6.FishingModelAttn(\n",
    "    inputs=[\n",
    "        \"x\",\n",
    "        \"y\",\n",
    "        \"cos_course_degrees\",\n",
    "        \"sin_course_degrees\",\n",
    "        \"speed_knots\",\n",
    "    ],\n",
    "    outputs=[\"other\", \"setting\", \"hauling\"],\n",
    "    sample_length=97,\n",
    "    sample_interval=3,\n",
    ")"
   ]
  },
  {
   "cell_type": "markdown",
   "id": "fa71e450",
   "metadata": {},
   "source": [
    "## Train Model"
   ]
  },
  {
   "cell_type": "code",
   "execution_count": null,
   "id": "b156ceba",
   "metadata": {},
   "outputs": [],
   "source": [
    "results = longline_trainer.LonglineTrainer.train(\n",
    "    fishing_model_attn6.FishingModelAttn, training_data, fold=0\n",
    ")"
   ]
  },
  {
   "cell_type": "code",
   "execution_count": null,
   "id": "ca1332b7",
   "metadata": {},
   "outputs": [],
   "source": [
    "if True:\n",
    "    results = longline_trainer.LonglineTrainer.train(\n",
    "        fishing_model_attn6.FishingModelAttn, training_data, fold=None\n",
    "    )\n",
    "    results.model.save_model(\"../data/untracked/fishing_model_attn6_vXXXXXXXX.hdf5\")"
   ]
  },
  {
   "cell_type": "markdown",
   "id": "146c5101",
   "metadata": {},
   "source": [
    "To load the model use:\n",
    "\n",
    "    loaded_model = generic_fishing_model.GenericFishingModel.load_model(\n",
    "        \"../data/untracked/fishing_model_attn6_vXXXXXXXX.hdf5\")"
   ]
  }
 ],
 "metadata": {
  "jupytext": {
   "cell_metadata_filter": "-all",
   "formats": "ipynb,py:light",
   "notebook_metadata_filter": "-all"
  },
  "kernelspec": {
   "display_name": "Python 3",
   "language": "python",
   "name": "python3"
  },
  "language_info": {
   "codemirror_mode": {
    "name": "ipython",
    "version": 3
   },
   "file_extension": ".py",
   "mimetype": "text/x-python",
   "name": "python",
   "nbconvert_exporter": "python",
   "pygments_lexer": "ipython3",
   "version": "3.9.5"
  }
 },
 "nbformat": 4,
 "nbformat_minor": 5
}
